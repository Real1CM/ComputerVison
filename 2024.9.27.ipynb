{
  "nbformat": 4,
  "nbformat_minor": 0,
  "metadata": {
    "colab": {
      "provenance": [],
      "authorship_tag": "ABX9TyNvHhwOFegAdT3n/z9n9ovL",
      "include_colab_link": true
    },
    "kernelspec": {
      "name": "python3",
      "display_name": "Python 3"
    },
    "language_info": {
      "name": "python"
    }
  },
  "cells": [
    {
      "cell_type": "markdown",
      "metadata": {
        "id": "view-in-github",
        "colab_type": "text"
      },
      "source": [
        "<a href=\"https://colab.research.google.com/github/Real1CM/ComputerVison/blob/main/2024.9.27.ipynb\" target=\"_parent\"><img src=\"https://colab.research.google.com/assets/colab-badge.svg\" alt=\"Open In Colab\"/></a>"
      ]
    },
    {
      "cell_type": "markdown",
      "source": [
        "#### 图像的灰度直方图\n",
        "###### 8号 梁宸铭 202408120081142"
      ],
      "metadata": {
        "id": "cUQSaedt0kme"
      }
    },
    {
      "cell_type": "markdown",
      "source": [
        "######1. 读入彩色图像，对于三个通道BGR在一个图中，分别绘制出它的直方图，结合图像的色彩分布，讨论直方图形态和色彩之间有什么关系？"
      ],
      "metadata": {
        "id": "01iZWYZV9JmM"
      }
    },
    {
      "cell_type": "markdown",
      "source": [
        "直方图表示了图像各个通道颜色的分布强度及对比度。直方图靠近0，那么对应色彩就暗，靠近255就亮。如果直方图很宽，那么就包含了众多色彩，如果很尖，则色彩比较统一。"
      ],
      "metadata": {
        "id": "QNLRTIXK-Fwn"
      }
    },
    {
      "cell_type": "markdown",
      "source": [
        "######2.　自己编写函数Histogram_Computation(Image)，该函数输入为一张一个通道的图片，函数返回一个1D的array，长度为255，array中的变量类型为int32。返回的array为输入图像的灰度直方图，验证结果正确性。"
      ],
      "metadata": {
        "id": "UeKGgkau_maP"
      }
    },
    {
      "cell_type": "code",
      "source": [
        "import numpy as np\n",
        "\n",
        "def Histogram_Computation(Image):\n",
        "    histogram = np.zeros(256, dtype=np.int32)\n",
        "\n",
        "    for pixel_value in Image.flatten():\n",
        "        histogram[pixel_value] += 1\n",
        "\n",
        "    return histogram[:255]"
      ],
      "metadata": {
        "id": "lnIAm5HWAp54"
      },
      "execution_count": 2,
      "outputs": []
    },
    {
      "cell_type": "code",
      "source": [
        "from PIL import Image\n",
        "\n",
        "img_path = './cat.jpg'\n",
        "img = Image.open(img_path).convert('L')\n",
        "\n",
        "img_array = np.array(img)\n",
        "\n",
        "histogram = Histogram_Computation(img_array)\n",
        "print(histogram)"
      ],
      "metadata": {
        "colab": {
          "base_uri": "https://localhost:8080/"
        },
        "id": "woxbH3Ay27f3",
        "outputId": "5a56fd61-e3d1-4b63-a48e-fd9b6b3f9aae"
      },
      "execution_count": 3,
      "outputs": [
        {
          "output_type": "stream",
          "name": "stdout",
          "text": [
            "[118378 407799 250657 708639 295501 291336  49485 250832 156054  73957\n",
            "  73037  50221  34700  30219  31091  28093  33869  35484  33610  28912\n",
            "  25983  24144  23180  22503  22086  22636  21961  22372  21637  21440\n",
            "  21782  21781  21299  20767  21042  19875  19089  18704  18594  18333\n",
            "  17984  17824  17136  16881  16413  15911  15582  14965  14771  14474\n",
            "  13932  13689  13340  12933  12557  12159  12228  11504  11598  11480\n",
            "  11149  11065  10958  10710  10391  10150  10005  10190  10318  10160\n",
            "  10189  10122   9671   9573   9488   8620   8197   8250   7999   7780\n",
            "   7455   7295   7221   7122   7025   6700   6406   6339   6288   6127\n",
            "   6136   6054   6049   5945   5922   5700   5616   5386   5327   5345\n",
            "   5483   5278   5094   5389   5277   5329   5333   5297   5539   5522\n",
            "   5742   5863   6020   6158   6316   6475   6592   7193   7149   7606\n",
            "   7822   8231   8592   9265   9494   9747  10084  10767  11164  11351\n",
            "  11576  11979  12667  13281  13527  14904  16050  16502  17587  16766\n",
            "  16360  16253  16128  15400  15432  14522  14986  15364  15218  14819\n",
            "  14804  15173  14972  14863  14313  14033  14229  14228  14702  14649\n",
            "  14514  14239  15059  16222  16121  16539  16798  16199  16085  17051\n",
            "  16732  16751  15682  15733  15665  15114  14614  14410  14637  14179\n",
            "  14132  14098  13752  14018  14277  14336  14007  14335  13927  14002\n",
            "  14466  14769  14674  14672  14519  14668  14971  15216  15727  16209\n",
            "  16617  17332  18127  18668  18168  19567  19631  21144  21377  22045\n",
            "  21303  21133  19779  19672  20641  19838  20620  19564  19611  19434\n",
            "  19715  19912  18936  19806  19145  18544  17314  15807  15157  14055\n",
            "  13069  11100  12348  11465  10439   8939   9077   8951   8157   8741\n",
            "   4820   4683   4197   3116   1496   1148   1084    865    590    366\n",
            "    104     61     21     18     16]\n"
          ]
        }
      ]
    },
    {
      "cell_type": "markdown",
      "source": [
        "######3. 统计使用plt.histo函数和自己使用函数计算直方图效率"
      ],
      "metadata": {
        "id": "06YnH7g-CGPQ"
      }
    },
    {
      "cell_type": "code",
      "source": [
        "import time\n",
        "start_time = time.time()\n",
        "histogram = Histogram_Computation(img_array)\n",
        "end_time = time.time()\n",
        "execution_time = end_time - start_time\n",
        "execution_time # my function"
      ],
      "metadata": {
        "colab": {
          "base_uri": "https://localhost:8080/"
        },
        "id": "BPEEOaIVClqf",
        "outputId": "d3dcee19-e59c-4404-c722-b1933d552304"
      },
      "execution_count": 4,
      "outputs": [
        {
          "output_type": "execute_result",
          "data": {
            "text/plain": [
              "13.122667074203491"
            ]
          },
          "metadata": {},
          "execution_count": 4
        }
      ]
    },
    {
      "cell_type": "code",
      "source": [
        "import matplotlib.pyplot as plt\n",
        "\n",
        "img_path = './cat.jpg'\n",
        "img = Image.open(img_path).convert('L')\n",
        "img_array = np.array(img)\n",
        "start_time = time.time()\n",
        "plt.hist(img_array.flatten(), bins=255, range=(0, 255))\n",
        "end_time = time.time()\n",
        "execution_time = end_time - start_time\n",
        "execution_time # plt.hist"
      ],
      "metadata": {
        "colab": {
          "base_uri": "https://localhost:8080/",
          "height": 447
        },
        "id": "S1s6erFj3qLP",
        "outputId": "e244f9af-be15-4e10-d648-09455a57c1fd"
      },
      "execution_count": 6,
      "outputs": [
        {
          "output_type": "execute_result",
          "data": {
            "text/plain": [
              "0.5081698894500732"
            ]
          },
          "metadata": {},
          "execution_count": 6
        },
        {
          "output_type": "display_data",
          "data": {
            "text/plain": [
              "<Figure size 640x480 with 1 Axes>"
            ],
            "image/png": "[encoded data removed]"
          },
          "metadata": {}
        }
      ]
    }
  ]
}