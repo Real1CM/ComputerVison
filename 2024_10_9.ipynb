{
  "cells": [
    {
      "cell_type": "markdown",
      "metadata": {
        "id": "view-in-github",
        "colab_type": "text"
      },
      "source": [
        "<a href=\"https://colab.research.google.com/github/Real1CM/ComputerVison/blob/main/2024_10_9.ipynb\" target=\"_parent\"><img src=\"https://colab.research.google.com/assets/colab-badge.svg\" alt=\"Open In Colab\"/></a>"
      ]
    },
    {
      "cell_type": "markdown",
      "metadata": {
        "id": "ZmBtmmI17sOs"
      },
      "source": [
        "#### 图像的基本运算-加减法\n",
        "###### 8号 梁宸铭 202408120081142"
      ]
    },
    {
      "cell_type": "markdown",
      "metadata": {
        "id": "6qXYBVy_-imn"
      },
      "source": [
        "######1. 从视频文件中截取两张位置相邻的图片。提示：使用cv2.imread()函数读取一段视频文件。将两幅图片做差后取绝对值，显示第一张、第二张图片做差后的图像，讨论能否用此算法进行视频监控，发现场景中的异常情况，会遇到哪些问题？"
      ]
    },
    {
      "cell_type": "code",
      "execution_count": null,
      "metadata": {
        "colab": {
          "base_uri": "https://localhost:8080/",
          "height": 1000
        },
        "id": "c9YV02uMQQMR",
        "outputId": "5b2eb4a1-3c88-4883-e671-60b353b6b425"
      },
      "outputs": [],
      "source": [
        "import cv2\n",
        "import numpy as np\n",
        "from google.colab.patches import cv2_imshow\n",
        "\n",
        "video_path = './video.mp4'\n",
        "cap = cv2.VideoCapture(video_path)\n",
        "\n",
        "ret1, frame1 = cap.read()\n",
        "ret2, frame2 = cap.read()\n",
        "\n",
        "diff = cv2.absdiff(frame1, frame2)\n",
        "\n",
        "cv2_imshow(frame1)\n",
        "cv2_imshow(frame2)\n",
        "cv2_imshow(diff)"
      ]
    },
    {
      "cell_type": "markdown",
      "metadata": {
        "id": "OE2_xEtdRGYo"
      },
      "source": [
        "当出现物体运动比如：光线变化，树叶摇晃等可能出现误报。除非背景是全部不动的此方法可行。"
      ]
    },
    {
      "cell_type": "markdown",
      "metadata": {
        "id": "8RP-Lg5O-oOs"
      },
      "source": [
        "######2. 将两张彩色图片A，B使用加法运算进行融合，融合后的图像C=aA+(1-a)B其中0<=a<=1，改变参数a，分析融合后图片C的变化。"
      ]
    },
    {
      "cell_type": "code",
      "execution_count": null,
      "metadata": {
        "colab": {
          "base_uri": "https://localhost:8080/",
          "height": 759
        },
        "id": "tTuwJtNlSwav",
        "outputId": "b1782a24-d172-40e0-fa59-878cbb4f235c"
      },
      "outputs": [],
      "source": [
        "imageA = cv2.imread('./cat.jpg')\n",
        "imageB = cv2.imread('./dog.jpg')\n",
        "\n",
        "if imageA.shape != imageB.shape:\n",
        "    imageB = cv2.resize(imageB, (imageA.shape[1], imageA.shape[0]))\n",
        "\n",
        "a = 0.7\n",
        "C = cv2.addWeighted(imageA, a, imageB, 1 - a, 0)\n",
        "cv2_imshow(C)"
      ]
    },
    {
      "cell_type": "code",
      "execution_count": null,
      "metadata": {
        "id": "P4Zyu9wTXh7M",
        "colab": {
          "base_uri": "https://localhost:8080/",
          "height": 759
        },
        "outputId": "d047f92b-3522-40fe-d0b5-7bdfa04c6ba2"
      },
      "outputs": [],
      "source": [
        "a = 0.3\n",
        "C = cv2.addWeighted(imageA, a, imageB, 1 - a, 0)\n",
        "cv2_imshow(C)"
      ]
    },
    {
      "cell_type": "markdown",
      "metadata": {
        "id": "JzIuIsxTWEgO"
      },
      "source": [
        "a值越靠近1，图像越像A，a值越靠近0，图像越像B"
      ]
    },
    {
      "cell_type": "markdown",
      "metadata": {
        "id": "-9QxUFdOACsH"
      },
      "source": [
        "######3. 选择的一张图片使用Gamma函数对图像进行算法实验，验证通过设置不同的参数y=0.5，1.5，2.5，分别增强了图像中的哪些信息，并讨论增强后的效果。"
      ]
    },
    {
      "cell_type": "code",
      "source": [
        "image = cv2.imread('./cat.jpg')\n",
        "\n",
        "def adjust_gamma(image, gamma=1.0):\n",
        "    inv_gamma = 1.0 / gamma\n",
        "    table = np.array([((i / 255.0) ** inv_gamma) * 255 for i in np.arange(0, 256)]).astype(\"uint8\")\n",
        "    return cv2.LUT(image, table)\n",
        "\n",
        "gamma_values = [0.5, 1.5, 2.5]\n",
        "\n",
        "for gamma in gamma_values:\n",
        "    adjusted = adjust_gamma(image, gamma)\n",
        "    cv2_imshow(adjusted)"
      ],
      "metadata": {
        "colab": {
          "base_uri": "https://localhost:8080/",
          "height": 1000
        },
        "id": "N8Y21xwvblpw",
        "outputId": "d235fd6e-8ccb-4286-b31f-68ff45bcceea"
      },
      "execution_count": null,
      "outputs": []
    },
    {
      "cell_type": "markdown",
      "source": [
        "数字越小越增强亮的地方，比如猫脸。越大增强暗的地方，比如背景。"
      ],
      "metadata": {
        "id": "zYgVnVR0eoXv"
      }
    },
    {
      "cell_type": "markdown",
      "metadata": {
        "id": "2V08jV9k-yAl"
      },
      "source": [
        "######4. 尝试寻找某种数据(图像)，尝试使用log变换来对图像中的信息进行增强，对比增强前后的效果，说明使用log变换后图片的质量有明显提高。"
      ]
    },
    {
      "cell_type": "code",
      "source": [
        "image = cv2.imread('./cat.jpg')\n",
        "\n",
        "normalized_image = image / 255.0\n",
        "c = 255 / np.log(1 + np.max(normalized_image))\n",
        "log_transformed_image = c * np.log(1 + normalized_image)\n",
        "log_transformed_image = np.uint8(log_transformed_image)\n",
        "cv2_imshow(log_transformed_image)"
      ],
      "metadata": {
        "colab": {
          "base_uri": "https://localhost:8080/",
          "height": 759
        },
        "id": "j3bJH2htdGun",
        "outputId": "b58d5c6f-b2ef-4b7f-bb0f-04011ccbc9e9"
      },
      "execution_count": null,
      "outputs": []
    },
    {
      "cell_type": "markdown",
      "source": [
        "log函数值越小变化越大，gamma矫正是x^n函数，变化和n有关，gamma矫正更加灵活通过调整n来特别地增强暗部或亮部。"
      ],
      "metadata": {
        "id": "gXrSU_IkfStH"
      }
    },
    {
      "cell_type": "markdown",
      "metadata": {
        "id": "WqU5wTtb_Epj"
      },
      "source": [
        "######5. 对上面的图片直接使用直方图均衡算法，并画出各个算法处理后图像的直方图，讨论哪个算法处理后的效果在视觉上比较好，可以从视觉直观效果和直方图等方面进行综合评价。"
      ]
    },
    {
      "cell_type": "code",
      "source": [
        "from matplotlib import pyplot as plt\n",
        "\n",
        "image = cv2.imread('./cat.jpg')\n",
        "\n",
        "def apply_log_transformation(image):\n",
        "    c = 255 / np.log(1 + np.max(image))\n",
        "    log_image = c * (np.log(1 + image))\n",
        "    log_image = np.array(log_image, dtype=np.uint8)\n",
        "    return log_image\n",
        "\n",
        "def apply_gamma_correction(image, gamma):\n",
        "    inv_gamma = 1.0 / gamma\n",
        "    gamma_image = np.array(255 * (image / 255) ** inv_gamma, dtype='uint8')\n",
        "    return gamma_image\n",
        "\n",
        "def apply_hist_equalization(image):\n",
        "    b, g, r = cv2.split(image)\n",
        "    b_eq = cv2.equalizeHist(b)\n",
        "    g_eq = cv2.equalizeHist(g)\n",
        "    r_eq = cv2.equalizeHist(r)\n",
        "    equalized_image = cv2.merge([b_eq, g_eq, r_eq])\n",
        "    return equalized_image\n",
        "\n",
        "def plot_histogram(image, title):\n",
        "    color = ('b', 'g', 'r')\n",
        "    plt.figure()\n",
        "    for i, col in enumerate(color):\n",
        "        hist = cv2.calcHist([image], [i], None, [256], [0, 256])\n",
        "        plt.plot(hist, color=col)\n",
        "        plt.xlim([0, 256])\n",
        "    plt.title(title)\n",
        "    plt.show()\n",
        "\n",
        "plot_histogram(image, \"1\")\n",
        "log_image = apply_log_transformation(image)\n",
        "plot_histogram(log_image, \"2\")\n",
        "gamma_image = apply_gamma_correction(image, 0.5)\n",
        "plot_histogram(gamma_image, \"3\")\n",
        "equalized_image = apply_hist_equalization(image)\n",
        "plot_histogram(equalized_image, \"4\")\n",
        "\n",
        "cv2_imshow(image)\n",
        "cv2_imshow(log_image)\n",
        "cv2_imshow(gamma_image)\n",
        "cv2_imshow(equalized_image)"
      ],
      "metadata": {
        "colab": {
          "base_uri": "https://localhost:8080/",
          "height": 1000
        },
        "id": "H8ROqnoRfytO",
        "outputId": "24513a5c-4557-4f08-a401-07f2aed260fa"
      },
      "execution_count": null,
      "outputs": []
    },
    {
      "cell_type": "markdown",
      "source": [
        "Gamme矫正更加灵活，就这个图片而言Gamme矫正更好，直方图均衡让图像变得模糊了。"
      ],
      "metadata": {
        "id": "kZ2K0XyMhaAm"
      }
    }
  ],
  "metadata": {
    "colab": {
      "provenance": [],
      "authorship_tag": "ABX9TyMXFP8tY29NbaK4qhsikQ8Y",
      "include_colab_link": true
    },
    "kernelspec": {
      "display_name": "Python 3",
      "name": "python3"
    },
    "language_info": {
      "name": "python"
    }
  },
  "nbformat": 4,
  "nbformat_minor": 0
}